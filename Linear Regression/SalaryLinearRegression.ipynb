{
 "cells": [
  {
   "metadata": {},
   "cell_type": "markdown",
   "source": [
    "# The purpose\n",
    "   *  Model: $f_{w, b}(x) = wx + b$\n",
    "   *  Parameters: $w, b$\n",
    "   *  Cost Function $J(w, b)=\\frac{1}{2m} \\sum_{i=1}^{m}(f_{w, b}(x^{(i)}) - y^{(i)})^2$\n",
    "      * Which is basically the Mean Squared Error of the difference between the predicted value and the actual value\n",
    "   *  Objective: $minimize_{w, b} J(w, b)$\n",
    "\n"
   ],
   "id": "61aa6d13da727206"
  },
  {
   "cell_type": "code",
   "id": "initial_id",
   "metadata": {
    "collapsed": true,
    "ExecuteTime": {
     "end_time": "2024-08-22T22:51:14.989492Z",
     "start_time": "2024-08-22T22:51:14.985338Z"
    }
   },
   "source": [
    "from matplotlib import pyplot as plt\n",
    "import pandas as pd\n",
    "import numpy as np"
   ],
   "outputs": [],
   "execution_count": 30
  },
  {
   "metadata": {
    "ExecuteTime": {
     "end_time": "2024-08-22T22:51:15.018153Z",
     "start_time": "2024-08-22T22:51:14.990912Z"
    }
   },
   "cell_type": "code",
   "source": [
    "salary_data = pd.read_csv('../data/salary_dataset.csv')\n",
    "salary_df = pd.DataFrame(salary_data)"
   ],
   "id": "1ca061c6c934bb07",
   "outputs": [],
   "execution_count": 31
  },
  {
   "metadata": {
    "ExecuteTime": {
     "end_time": "2024-08-22T22:51:15.034296Z",
     "start_time": "2024-08-22T22:51:15.019159Z"
    }
   },
   "cell_type": "code",
   "source": "salary_df",
   "id": "ee47ba534fd4901e",
   "outputs": [
    {
     "data": {
      "text/plain": [
       "    Unnamed: 0  YearsExperience    Salary\n",
       "0            0              1.2   39344.0\n",
       "1            1              1.4   46206.0\n",
       "2            2              1.6   37732.0\n",
       "3            3              2.1   43526.0\n",
       "4            4              2.3   39892.0\n",
       "5            5              3.0   56643.0\n",
       "6            6              3.1   60151.0\n",
       "7            7              3.3   54446.0\n",
       "8            8              3.3   64446.0\n",
       "9            9              3.8   57190.0\n",
       "10          10              4.0   63219.0\n",
       "11          11              4.1   55795.0\n",
       "12          12              4.1   56958.0\n",
       "13          13              4.2   57082.0\n",
       "14          14              4.6   61112.0\n",
       "15          15              5.0   67939.0\n",
       "16          16              5.2   66030.0\n",
       "17          17              5.4   83089.0\n",
       "18          18              6.0   81364.0\n",
       "19          19              6.1   93941.0\n",
       "20          20              6.9   91739.0\n",
       "21          21              7.2   98274.0\n",
       "22          22              8.0  101303.0\n",
       "23          23              8.3  113813.0\n",
       "24          24              8.8  109432.0\n",
       "25          25              9.1  105583.0\n",
       "26          26              9.6  116970.0\n",
       "27          27              9.7  112636.0\n",
       "28          28             10.4  122392.0\n",
       "29          29             10.6  121873.0"
      ],
      "text/html": [
       "<div>\n",
       "<style scoped>\n",
       "    .dataframe tbody tr th:only-of-type {\n",
       "        vertical-align: middle;\n",
       "    }\n",
       "\n",
       "    .dataframe tbody tr th {\n",
       "        vertical-align: top;\n",
       "    }\n",
       "\n",
       "    .dataframe thead th {\n",
       "        text-align: right;\n",
       "    }\n",
       "</style>\n",
       "<table border=\"1\" class=\"dataframe\">\n",
       "  <thead>\n",
       "    <tr style=\"text-align: right;\">\n",
       "      <th></th>\n",
       "      <th>Unnamed: 0</th>\n",
       "      <th>YearsExperience</th>\n",
       "      <th>Salary</th>\n",
       "    </tr>\n",
       "  </thead>\n",
       "  <tbody>\n",
       "    <tr>\n",
       "      <th>0</th>\n",
       "      <td>0</td>\n",
       "      <td>1.2</td>\n",
       "      <td>39344.0</td>\n",
       "    </tr>\n",
       "    <tr>\n",
       "      <th>1</th>\n",
       "      <td>1</td>\n",
       "      <td>1.4</td>\n",
       "      <td>46206.0</td>\n",
       "    </tr>\n",
       "    <tr>\n",
       "      <th>2</th>\n",
       "      <td>2</td>\n",
       "      <td>1.6</td>\n",
       "      <td>37732.0</td>\n",
       "    </tr>\n",
       "    <tr>\n",
       "      <th>3</th>\n",
       "      <td>3</td>\n",
       "      <td>2.1</td>\n",
       "      <td>43526.0</td>\n",
       "    </tr>\n",
       "    <tr>\n",
       "      <th>4</th>\n",
       "      <td>4</td>\n",
       "      <td>2.3</td>\n",
       "      <td>39892.0</td>\n",
       "    </tr>\n",
       "    <tr>\n",
       "      <th>5</th>\n",
       "      <td>5</td>\n",
       "      <td>3.0</td>\n",
       "      <td>56643.0</td>\n",
       "    </tr>\n",
       "    <tr>\n",
       "      <th>6</th>\n",
       "      <td>6</td>\n",
       "      <td>3.1</td>\n",
       "      <td>60151.0</td>\n",
       "    </tr>\n",
       "    <tr>\n",
       "      <th>7</th>\n",
       "      <td>7</td>\n",
       "      <td>3.3</td>\n",
       "      <td>54446.0</td>\n",
       "    </tr>\n",
       "    <tr>\n",
       "      <th>8</th>\n",
       "      <td>8</td>\n",
       "      <td>3.3</td>\n",
       "      <td>64446.0</td>\n",
       "    </tr>\n",
       "    <tr>\n",
       "      <th>9</th>\n",
       "      <td>9</td>\n",
       "      <td>3.8</td>\n",
       "      <td>57190.0</td>\n",
       "    </tr>\n",
       "    <tr>\n",
       "      <th>10</th>\n",
       "      <td>10</td>\n",
       "      <td>4.0</td>\n",
       "      <td>63219.0</td>\n",
       "    </tr>\n",
       "    <tr>\n",
       "      <th>11</th>\n",
       "      <td>11</td>\n",
       "      <td>4.1</td>\n",
       "      <td>55795.0</td>\n",
       "    </tr>\n",
       "    <tr>\n",
       "      <th>12</th>\n",
       "      <td>12</td>\n",
       "      <td>4.1</td>\n",
       "      <td>56958.0</td>\n",
       "    </tr>\n",
       "    <tr>\n",
       "      <th>13</th>\n",
       "      <td>13</td>\n",
       "      <td>4.2</td>\n",
       "      <td>57082.0</td>\n",
       "    </tr>\n",
       "    <tr>\n",
       "      <th>14</th>\n",
       "      <td>14</td>\n",
       "      <td>4.6</td>\n",
       "      <td>61112.0</td>\n",
       "    </tr>\n",
       "    <tr>\n",
       "      <th>15</th>\n",
       "      <td>15</td>\n",
       "      <td>5.0</td>\n",
       "      <td>67939.0</td>\n",
       "    </tr>\n",
       "    <tr>\n",
       "      <th>16</th>\n",
       "      <td>16</td>\n",
       "      <td>5.2</td>\n",
       "      <td>66030.0</td>\n",
       "    </tr>\n",
       "    <tr>\n",
       "      <th>17</th>\n",
       "      <td>17</td>\n",
       "      <td>5.4</td>\n",
       "      <td>83089.0</td>\n",
       "    </tr>\n",
       "    <tr>\n",
       "      <th>18</th>\n",
       "      <td>18</td>\n",
       "      <td>6.0</td>\n",
       "      <td>81364.0</td>\n",
       "    </tr>\n",
       "    <tr>\n",
       "      <th>19</th>\n",
       "      <td>19</td>\n",
       "      <td>6.1</td>\n",
       "      <td>93941.0</td>\n",
       "    </tr>\n",
       "    <tr>\n",
       "      <th>20</th>\n",
       "      <td>20</td>\n",
       "      <td>6.9</td>\n",
       "      <td>91739.0</td>\n",
       "    </tr>\n",
       "    <tr>\n",
       "      <th>21</th>\n",
       "      <td>21</td>\n",
       "      <td>7.2</td>\n",
       "      <td>98274.0</td>\n",
       "    </tr>\n",
       "    <tr>\n",
       "      <th>22</th>\n",
       "      <td>22</td>\n",
       "      <td>8.0</td>\n",
       "      <td>101303.0</td>\n",
       "    </tr>\n",
       "    <tr>\n",
       "      <th>23</th>\n",
       "      <td>23</td>\n",
       "      <td>8.3</td>\n",
       "      <td>113813.0</td>\n",
       "    </tr>\n",
       "    <tr>\n",
       "      <th>24</th>\n",
       "      <td>24</td>\n",
       "      <td>8.8</td>\n",
       "      <td>109432.0</td>\n",
       "    </tr>\n",
       "    <tr>\n",
       "      <th>25</th>\n",
       "      <td>25</td>\n",
       "      <td>9.1</td>\n",
       "      <td>105583.0</td>\n",
       "    </tr>\n",
       "    <tr>\n",
       "      <th>26</th>\n",
       "      <td>26</td>\n",
       "      <td>9.6</td>\n",
       "      <td>116970.0</td>\n",
       "    </tr>\n",
       "    <tr>\n",
       "      <th>27</th>\n",
       "      <td>27</td>\n",
       "      <td>9.7</td>\n",
       "      <td>112636.0</td>\n",
       "    </tr>\n",
       "    <tr>\n",
       "      <th>28</th>\n",
       "      <td>28</td>\n",
       "      <td>10.4</td>\n",
       "      <td>122392.0</td>\n",
       "    </tr>\n",
       "    <tr>\n",
       "      <th>29</th>\n",
       "      <td>29</td>\n",
       "      <td>10.6</td>\n",
       "      <td>121873.0</td>\n",
       "    </tr>\n",
       "  </tbody>\n",
       "</table>\n",
       "</div>"
      ]
     },
     "execution_count": 32,
     "metadata": {},
     "output_type": "execute_result"
    }
   ],
   "execution_count": 32
  },
  {
   "metadata": {
    "ExecuteTime": {
     "end_time": "2024-08-22T22:51:15.066415Z",
     "start_time": "2024-08-22T22:51:15.035621Z"
    }
   },
   "cell_type": "code",
   "source": "salary_df.describe()",
   "id": "41e145253f59a51d",
   "outputs": [
    {
     "data": {
      "text/plain": [
       "       Unnamed: 0  YearsExperience         Salary\n",
       "count   30.000000        30.000000      30.000000\n",
       "mean    14.500000         5.413333   76004.000000\n",
       "std      8.803408         2.837888   27414.429785\n",
       "min      0.000000         1.200000   37732.000000\n",
       "25%      7.250000         3.300000   56721.750000\n",
       "50%     14.500000         4.800000   65238.000000\n",
       "75%     21.750000         7.800000  100545.750000\n",
       "max     29.000000        10.600000  122392.000000"
      ],
      "text/html": [
       "<div>\n",
       "<style scoped>\n",
       "    .dataframe tbody tr th:only-of-type {\n",
       "        vertical-align: middle;\n",
       "    }\n",
       "\n",
       "    .dataframe tbody tr th {\n",
       "        vertical-align: top;\n",
       "    }\n",
       "\n",
       "    .dataframe thead th {\n",
       "        text-align: right;\n",
       "    }\n",
       "</style>\n",
       "<table border=\"1\" class=\"dataframe\">\n",
       "  <thead>\n",
       "    <tr style=\"text-align: right;\">\n",
       "      <th></th>\n",
       "      <th>Unnamed: 0</th>\n",
       "      <th>YearsExperience</th>\n",
       "      <th>Salary</th>\n",
       "    </tr>\n",
       "  </thead>\n",
       "  <tbody>\n",
       "    <tr>\n",
       "      <th>count</th>\n",
       "      <td>30.000000</td>\n",
       "      <td>30.000000</td>\n",
       "      <td>30.000000</td>\n",
       "    </tr>\n",
       "    <tr>\n",
       "      <th>mean</th>\n",
       "      <td>14.500000</td>\n",
       "      <td>5.413333</td>\n",
       "      <td>76004.000000</td>\n",
       "    </tr>\n",
       "    <tr>\n",
       "      <th>std</th>\n",
       "      <td>8.803408</td>\n",
       "      <td>2.837888</td>\n",
       "      <td>27414.429785</td>\n",
       "    </tr>\n",
       "    <tr>\n",
       "      <th>min</th>\n",
       "      <td>0.000000</td>\n",
       "      <td>1.200000</td>\n",
       "      <td>37732.000000</td>\n",
       "    </tr>\n",
       "    <tr>\n",
       "      <th>25%</th>\n",
       "      <td>7.250000</td>\n",
       "      <td>3.300000</td>\n",
       "      <td>56721.750000</td>\n",
       "    </tr>\n",
       "    <tr>\n",
       "      <th>50%</th>\n",
       "      <td>14.500000</td>\n",
       "      <td>4.800000</td>\n",
       "      <td>65238.000000</td>\n",
       "    </tr>\n",
       "    <tr>\n",
       "      <th>75%</th>\n",
       "      <td>21.750000</td>\n",
       "      <td>7.800000</td>\n",
       "      <td>100545.750000</td>\n",
       "    </tr>\n",
       "    <tr>\n",
       "      <th>max</th>\n",
       "      <td>29.000000</td>\n",
       "      <td>10.600000</td>\n",
       "      <td>122392.000000</td>\n",
       "    </tr>\n",
       "  </tbody>\n",
       "</table>\n",
       "</div>"
      ]
     },
     "execution_count": 33,
     "metadata": {},
     "output_type": "execute_result"
    }
   ],
   "execution_count": 33
  },
  {
   "metadata": {
    "ExecuteTime": {
     "end_time": "2024-08-22T22:51:15.075714Z",
     "start_time": "2024-08-22T22:51:15.067822Z"
    }
   },
   "cell_type": "code",
   "source": [
    "class Algorithms:\n",
    "    # Cost Function - there could be others where bias isn't 0, but for this example, we're assuming it's 0\n",
    "    # basically the Mean Squared Error of the difference between the predicted value and the actual values given the weights and bias\n",
    "    @staticmethod\n",
    "    # X: Feature matrix (m x n), where m is the number of samples and n is the number of features.\n",
    "    # y: Target variable vector (m x 1).\n",
    "    # theta: Parameter vector (n x 1).\n",
    "    def compute_cost(X, y, theta):\n",
    "        m = len(y)\n",
    "        predictions = X.dot(theta)\n",
    "        squared_errors = np.square(predictions - y)\n",
    "        cost = 1 / (2 * m) * np.sum(squared_errors)\n",
    "        \n",
    "        return cost\n",
    "    \n",
    "    @staticmethod\n",
    "    def gradient_descent(X, y, theta, alpha, iterations):\n",
    "        m = len(y)\n",
    "        cost_history = []\n",
    "        \n",
    "        for _ in range(iterations):\n",
    "            predictions = X.dot(theta)\n",
    "            error = predictions - y\n",
    "            gradient = X.T.dot(error) / m\n",
    "            \n",
    "            theta -= alpha * gradient\n",
    "            cost = Algorithms.compute_cost(X, y, theta)\n",
    "            cost_history.append(cost)\n",
    "        \n",
    "        return theta, cost_history\n",
    "    \n",
    "    @staticmethod\n",
    "    def feature_normalize(X):\n",
    "        mu = np.mean(X, axis=0)\n",
    "        sigma = np.std(X, axis=0)\n",
    "        X_norm = (X - mu) / sigma\n",
    "        \n",
    "        return X_norm, mu, sigma\n",
    "    \n",
    "    @staticmethod\n",
    "    def normalize(X, y):\n",
    "        return np.linalg.inv(X.T.dot(X)).dot(X.T).dot(y)"
   ],
   "id": "563fa3092904a2",
   "outputs": [],
   "execution_count": 34
  },
  {
   "metadata": {
    "ExecuteTime": {
     "end_time": "2024-08-22T22:51:15.221132Z",
     "start_time": "2024-08-22T22:51:15.076989Z"
    }
   },
   "cell_type": "code",
   "source": [
    "# 1A: Plotting the data\n",
    "plt.xlabel('Years of Experience (X)', rotation=0)\n",
    "plt.ylabel('Salary (y)', rotation=90)\n",
    "plt.scatter(salary_df['YearsExperience'], salary_df['Salary'])"
   ],
   "id": "e996541a6d62d957",
   "outputs": [
    {
     "data": {
      "text/plain": [
       "<matplotlib.collections.PathCollection at 0x202a0f0e2d0>"
      ]
     },
     "execution_count": 35,
     "metadata": {},
     "output_type": "execute_result"
    },
    {
     "data": {
      "text/plain": [
       "<Figure size 640x480 with 1 Axes>"
      ],
      "image/png": "[encoded data removed]"
     },
     "metadata": {},
     "output_type": "display_data"
    }
   ],
   "execution_count": 35
  },
  {
   "metadata": {
    "ExecuteTime": {
     "end_time": "2024-08-22T22:51:15.226692Z",
     "start_time": "2024-08-22T22:51:15.222140Z"
    }
   },
   "cell_type": "code",
   "source": [
    "# 1B: Cost Function\n",
    "X = salary_df['YearsExperience'].values\n",
    "y = salary_df['Salary'].values\n",
    "theta = np.random.randn(30, 30)\n",
    "\n",
    "cost = Algorithms.compute_cost(X, y, theta)"
   ],
   "id": "9b6551ce9d6941ad",
   "outputs": [],
   "execution_count": 36
  },
  {
   "metadata": {
    "ExecuteTime": {
     "end_time": "2024-08-22T22:51:15.236381Z",
     "start_time": "2024-08-22T22:51:15.227701Z"
    }
   },
   "cell_type": "code",
   "source": "cost",
   "id": "339de495ddb92db8",
   "outputs": [
    {
     "data": {
      "text/plain": [
       "3252041057.301572"
      ]
     },
     "execution_count": 37,
     "metadata": {},
     "output_type": "execute_result"
    }
   ],
   "execution_count": 37
  },
  {
   "metadata": {
    "ExecuteTime": {
     "end_time": "2024-08-22T23:00:38.773397Z",
     "start_time": "2024-08-22T23:00:38.494557Z"
    }
   },
   "cell_type": "code",
   "source": [
    "# 1C: Gradient Descent\n",
    "X = salary_df['YearsExperience'].values\n",
    "y = salary_df['Salary'].values\n",
    "m = len(y)\n",
    "X_b = np.vstack((np.ones(m), X)).T\n",
    "theta = np.random.randn(2)\n",
    "alpha = 0.01\n",
    "iterations = 1500\n",
    "\n",
    "theta, cost_history = Algorithms.gradient_descent(X_b, y, theta, alpha, iterations)\n",
    "\n",
    "plt.plot(range(1, iterations + 1), cost_history)\n",
    "plt.xlabel('Iterations')\n",
    "plt.ylabel('Cost')\n",
    "\n",
    "theta"
   ],
   "id": "5fd114cbc7113a5c",
   "outputs": [
    {
     "data": {
      "text/plain": [
       "array([23798.68036005,  9603.99786286])"
      ]
     },
     "execution_count": 45,
     "metadata": {},
     "output_type": "execute_result"
    },
    {
     "data": {
      "text/plain": [
       "<Figure size 640x480 with 1 Axes>"
      ],
      "image/png": "[encoded data removed]"
     },
     "metadata": {},
     "output_type": "display_data"
    }
   ],
   "execution_count": 45
  },
  {
   "metadata": {
    "ExecuteTime": {
     "end_time": "2024-08-22T23:06:47.010484Z",
     "start_time": "2024-08-22T23:06:46.770213Z"
    }
   },
   "cell_type": "code",
   "source": [
    "# 1D: Feature Normalization\n",
    "X = np.c_[np.ones(salary_df.shape[0]), salary_df['YearsExperience']]\n",
    "\n",
    "# 2. Create y (target variable)\n",
    "y = salary_df['Salary'].values.reshape(-1, 1)\n",
    "\n",
    "# 3. Normalize X\n",
    "X_norm, mu, sigma = Algorithms.feature_normalize(X[:, 1].reshape(-1, 1))\n",
    "X_norm = np.c_[np.ones((X_norm.shape[0], 1)), X_norm]\n",
    "\n",
    "# 4. Compute optimal parameters using the normal equation\n",
    "theta_normal_eqn = Algorithms.normalize(X, y)\n",
    "\n",
    "# 5. Make predictions\n",
    "predictions_normal_eqn = X.dot(theta_normal_eqn)\n",
    "\n",
    "# 6. Print the final parameters, mu, and sigma\n",
    "print(f\"Parameters from Normal Equation:\\n{theta_normal_eqn}\\n\")\n",
    "print(f\"Mu: {mu}\\n\")\n",
    "print(f\"Sigma: {sigma}\\n\")"
   ],
   "id": "a4e33620cbd2b9a8",
   "outputs": [
    {
     "name": "stdout",
     "output_type": "stream",
     "text": [
      "Parameters from Normal Equation:\n",
      "[[24848.20396652]\n",
      " [ 9449.96232146]]\n",
      "\n",
      "Mu: [5.41333333]\n",
      "\n",
      "Sigma: [2.79018916]\n",
      "\n"
     ]
    }
   ],
   "execution_count": 46
  },
  {
   "metadata": {},
   "cell_type": "code",
   "outputs": [],
   "execution_count": null,
   "source": "",
   "id": "c620f1b4bc9ef1b6"
  }
 ],
 "metadata": {
  "kernelspec": {
   "display_name": "Python 3",
   "language": "python",
   "name": "python3"
  },
  "language_info": {
   "codemirror_mode": {
    "name": "ipython",
    "version": 2
   },
   "file_extension": ".py",
   "mimetype": "text/x-python",
   "name": "python",
   "nbconvert_exporter": "python",
   "pygments_lexer": "ipython2",
   "version": "2.7.6"
  }
 },
 "nbformat": 4,
 "nbformat_minor": 5
}
