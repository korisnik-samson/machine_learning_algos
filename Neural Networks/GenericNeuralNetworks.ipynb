{
 "cells": [
  {
   "cell_type": "code",
   "id": "initial_id",
   "metadata": {
    "collapsed": true,
    "ExecuteTime": {
     "end_time": "2024-08-26T17:31:29.873178Z",
     "start_time": "2024-08-26T17:31:29.743388Z"
    }
   },
   "source": "import numpy as np",
   "outputs": [],
   "execution_count": 1
  },
  {
   "metadata": {
    "ExecuteTime": {
     "end_time": "2024-08-26T17:31:29.881898Z",
     "start_time": "2024-08-26T17:31:29.874183Z"
    }
   },
   "cell_type": "code",
   "source": [
    "class NeuralAlgorithms:\n",
    "\n",
    "    @staticmethod\n",
    "    def sigmoid(x):\n",
    "        return 1 / (1 + np.exp(-x))\n",
    "\n",
    "    @staticmethod\n",
    "    def sigmoid_gradient(x):\n",
    "        sig = NeuralAlgorithms.sigmoid(x)\n",
    "        return sig * (1 - sig)\n",
    "\n",
    "    @staticmethod\n",
    "    def neural_network_cost_compute(X, y, W1, W2, _lambda):\n",
    "        m = len(y)  # Number of training examples\n",
    "\n",
    "        # Forward propagation\n",
    "        z1 = X.dot(W1)  # Activation at hidden layer\n",
    "        a1 = NeuralAlgorithms.sigmoid(z1)  # Output of hidden layer\n",
    "        z2 = a1.dot(W2)  # Activation at output layer\n",
    "        h = NeuralAlgorithms.sigmoid(z2)  # Output of output layer\n",
    "\n",
    "        # Compute cost\n",
    "        regularization_term = (_lambda / (2 * m)) * (np.sum(np.square(W1)) + np.sum(np.square(W2)))\n",
    "        cost = (-1 / m) * np.sum(y * np.log(h) + (1 - y) * np.log(1 - h)) + regularization_term\n",
    "\n",
    "        return cost\n",
    "\n",
    "\n",
    "class Utils:\n",
    "    @staticmethod\n",
    "    def initialize_weights(input_size, hidden_size, output_size):\n",
    "        input_hidden_weight = np.random.randn(input_size, hidden_size)\n",
    "        hidden_output_weight = np.random.randn(hidden_size, output_size)\n",
    "\n",
    "        return input_hidden_weight, hidden_output_weight"
   ],
   "id": "46c8aec1116a96c1",
   "outputs": [],
   "execution_count": 2
  },
  {
   "metadata": {
    "ExecuteTime": {
     "end_time": "2024-08-26T17:31:29.895015Z",
     "start_time": "2024-08-26T17:31:29.882965Z"
    }
   },
   "cell_type": "code",
   "source": [
    "vals = np.array([0, 1, -1])\n",
    "NeuralAlgorithms.sigmoid_gradient(vals)"
   ],
   "id": "e45c1ac0fb3df6ab",
   "outputs": [
    {
     "data": {
      "text/plain": [
       "array([0.25      , 0.19661193, 0.19661193])"
      ]
     },
     "execution_count": 3,
     "metadata": {},
     "output_type": "execute_result"
    }
   ],
   "execution_count": 3
  },
  {
   "metadata": {
    "ExecuteTime": {
     "end_time": "2024-08-26T17:31:29.908977Z",
     "start_time": "2024-08-26T17:31:29.896023Z"
    }
   },
   "cell_type": "code",
   "source": [
    "# Example usage\n",
    "X = np.random.randn(100, 4)  # Example input data\n",
    "y = np.random.randint(0, 2, size=(100, 3))  # Example labels\n",
    "_lambda = 0.1  # Regularization parameter\n",
    "\n",
    "# Initialize weights\n",
    "input_size = 4\n",
    "hidden_size = 3\n",
    "output_size = 3\n",
    "\n",
    "input_hidden_weight, hidden_output_weight = Utils.initialize_weights(input_size, hidden_size, output_size)\n",
    "\n",
    "# Compute cost\n",
    "cost = NeuralAlgorithms.neural_network_cost_compute(X, y, input_hidden_weight, hidden_output_weight, _lambda)\n",
    "print(f\"Neural Cost: {cost}\")"
   ],
   "id": "9a78c14611bb426c",
   "outputs": [
    {
     "name": "stdout",
     "output_type": "stream",
     "text": [
      "Neural Cost: 2.340617284078747\n"
     ]
    }
   ],
   "execution_count": 4
  },
  {
   "metadata": {
    "ExecuteTime": {
     "end_time": "2024-08-26T17:31:29.914061Z",
     "start_time": "2024-08-26T17:31:29.910512Z"
    }
   },
   "cell_type": "code",
   "source": "",
   "id": "db8957053e864c3f",
   "outputs": [],
   "execution_count": 4
  }
 ],
 "metadata": {
  "kernelspec": {
   "display_name": "Python 3",
   "language": "python",
   "name": "python3"
  },
  "language_info": {
   "codemirror_mode": {
    "name": "ipython",
    "version": 2
   },
   "file_extension": ".py",
   "mimetype": "text/x-python",
   "name": "python",
   "nbconvert_exporter": "python",
   "pygments_lexer": "ipython2",
   "version": "2.7.6"
  }
 },
 "nbformat": 4,
 "nbformat_minor": 5
}
